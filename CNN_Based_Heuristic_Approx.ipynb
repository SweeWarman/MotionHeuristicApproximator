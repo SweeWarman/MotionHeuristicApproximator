{
 "cells": [
  {
   "cell_type": "markdown",
   "id": "21160a52",
   "metadata": {},
   "source": [
    "# CNN Based Heuristic Approximation\n",
    "\n",
    "Let's explore how CNN architectures can approximate the heuristic map."
   ]
  },
  {
   "cell_type": "code",
   "execution_count": 1,
   "id": "3f61f32a",
   "metadata": {},
   "outputs": [],
   "source": [
    "import os\n",
    "import torch\n",
    "import torch.nn as nn\n",
    "import numpy as np\n",
    "\n",
    "\n",
    "class MapDataLoader(torch.utils.data.Dataset):\n",
    "    def __init__(self,file,root=\"./\"):\n",
    "        self.data = np.load(os.path.join(root,file))\n",
    "        \n",
    "    def __len__(self):\n",
    "        return self.data.shape[0]\n",
    "    \n",
    "    def __getitem__(self,index):\n",
    "        return self.data[index][0],self.data[index][1]"
   ]
  },
  {
   "cell_type": "code",
   "execution_count": 153,
   "id": "e82f375b",
   "metadata": {},
   "outputs": [],
   "source": [
    "class Network(nn.Module):\n",
    "    def __init__(self,N):\n",
    "        super(Network,self).__init__()\n",
    "        self.layer1   = nn.Sequential(\n",
    "           nn.Conv2d(1,5,kernel_size=5,stride=1,padding='same'),\n",
    "           nn.BatchNorm2d(5),\n",
    "           nn.ReLU() \n",
    "        )\n",
    "        self.layer2 = nn.Sequential(\n",
    "           nn.Conv2d(5,10,kernel_size=5,stride=1,padding='same'),\n",
    "           nn.BatchNorm2d(10),\n",
    "           nn.ReLU(),\n",
    "           nn.MaxPool2d(2,2)\n",
    "        )\n",
    "        self.fc1   = nn.Linear(10*5*5,500)\n",
    "        self.relu1 = nn.ReLU()\n",
    "        self.fc2   = nn.Linear(500,N*N) \n",
    "        self.sig   = nn.Sigmoid()\n",
    "        \n",
    "    def forward(self,x):\n",
    "        y = self.layer1(x)\n",
    "        y = self.layer2(y)\n",
    "        y = torch.reshape(y,(-1,10*5*5))\n",
    "        y = self.fc1(y)\n",
    "        y = self.relu1(y)\n",
    "        y = self.fc2(y) \n",
    "        y = self.sig(y)\n",
    "        return y"
   ]
  },
  {
   "cell_type": "code",
   "execution_count": 154,
   "id": "9b0e86b2",
   "metadata": {},
   "outputs": [],
   "source": [
    "from torch import tensor\n",
    "mseloss = torch.nn.MSELoss()\n",
    "def map_loss(inputs,outputs,labels,p1=0.0,p2=0.0):\n",
    "    At = inputs.detach().clone()\n",
    "    Bt = outputs.clone()\n",
    "    Ct = torch.zeros(At.shape)\n",
    "    Dt = torch.zeros(At.shape)\n",
    "    mask1 = At > 0.6\n",
    "    mask2 = torch.logical_and(At > 0.49,At < 0.51)\n",
    "    Ct[mask1] = 1.0\n",
    "    Dt[mask2] = 1.0\n",
    "    loss1 = mseloss(outputs,labels)\n",
    "    loss2 = torch.mean(torch.norm(p1*(Ct*Bt),dim=0))\n",
    "    loss3 = torch.mean(torch.norm(p2*(Dt-Dt*Bt),dim=0))\n",
    "    loss = loss1+loss2+loss3\n",
    "    return loss"
   ]
  },
  {
   "cell_type": "code",
   "execution_count": 155,
   "id": "637ad847",
   "metadata": {},
   "outputs": [],
   "source": [
    "data_location = '10by10_Obs'\n",
    "N = 10\n",
    "network = Network(N)"
   ]
  },
  {
   "cell_type": "code",
   "execution_count": 156,
   "id": "6298b407",
   "metadata": {},
   "outputs": [],
   "source": [
    "learning_rate = 0.001\n",
    "numEpochs = 20\n",
    "optimizer = torch.optim.Adam(network.parameters(),lr=learning_rate)"
   ]
  },
  {
   "cell_type": "code",
   "execution_count": 157,
   "id": "1e0bc231",
   "metadata": {},
   "outputs": [],
   "source": [
    "train_loader = torch.utils.data.DataLoader(dataset=MapDataLoader('dataset_train.npy',data_location),batch_size=30,shuffle=True)\n",
    "test_loader = torch.utils.data.DataLoader(dataset=MapDataLoader('dataset_test.npy',data_location),batch_size=30,shuffle=False)\n",
    "total_steps = len(train_loader)"
   ]
  },
  {
   "cell_type": "code",
   "execution_count": 158,
   "id": "e30d84b7",
   "metadata": {},
   "outputs": [
    {
     "name": "stdout",
     "output_type": "stream",
     "text": [
      "Average loss after epoch 1:0.055012\n",
      "Average loss after epoch 2:0.045594\n",
      "Average loss after epoch 3:0.029952\n",
      "Average loss after epoch 4:0.025753\n",
      "Average loss after epoch 5:0.022503\n",
      "Average loss after epoch 6:0.020398\n",
      "Average loss after epoch 7:0.018660\n",
      "Average loss after epoch 8:0.017031\n",
      "Average loss after epoch 9:0.015833\n",
      "Average loss after epoch 10:0.014986\n",
      "Average loss after epoch 11:0.014298\n",
      "Average loss after epoch 12:0.013810\n",
      "Average loss after epoch 13:0.013357\n",
      "Average loss after epoch 14:0.013007\n",
      "Average loss after epoch 15:0.012737\n",
      "Average loss after epoch 16:0.012511\n",
      "Average loss after epoch 17:0.012278\n",
      "Average loss after epoch 18:0.012092\n",
      "Average loss after epoch 19:0.011906\n",
      "Average loss after epoch 20:0.011730\n"
     ]
    }
   ],
   "source": [
    "testid = 'CNN_10x10_obs'\n",
    "p1 = 0.0\n",
    "p2 = 0.0\n",
    "network.train()\n",
    "for epoch in range(numEpochs):\n",
    "    avg_loss = 0\n",
    "    for i,(data,label) in enumerate(train_loader):\n",
    "        inputs = data.reshape(-1,1,N,N).float()\n",
    "        labels = label.reshape(-1,N**2).float()\n",
    "        optimizer.zero_grad()\n",
    "        outputs = network(inputs)\n",
    "        loss = mseloss(outputs,labels)\n",
    "        loss.backward()\n",
    "        optimizer.step()\n",
    "        avg_loss += loss.item()\n",
    "    avg_loss /= total_steps\n",
    "    print('Average loss after epoch %d:%f' % (epoch+1,avg_loss))\n",
    "  \n",
    "          \n",
    "torch.save(network,os.path.join(data_location,testid+'.pt'))"
   ]
  },
  {
   "cell_type": "code",
   "execution_count": 160,
   "id": "d786206d",
   "metadata": {},
   "outputs": [
    {
     "name": "stdout",
     "output_type": "stream",
     "text": [
      "Average testing loss: 0.012292\n"
     ]
    }
   ],
   "source": [
    "## Evaluate network on test data\n",
    "\n",
    "#network = torch.load(os.path.join(data_location,testid+'.pt'))\n",
    "network.eval()\n",
    "from MapGenerator import PlotMap\n",
    "loss = 0\n",
    "test_size = len(test_loader)\n",
    "with torch.no_grad():\n",
    "    for (data,label) in test_loader:\n",
    "        inputs = data.reshape(-1,1,N,N).float()\n",
    "        labels = label.reshape(-1,N**2).float()    \n",
    "        outputs = network(inputs)\n",
    "        loss +=  mseloss(outputs,labels)\n",
    "    loss /= test_size\n",
    "    print('Average testing loss: %f' %(loss))"
   ]
  },
  {
   "cell_type": "code",
   "execution_count": 161,
   "id": "540f46d1",
   "metadata": {},
   "outputs": [],
   "source": [
    "with torch.no_grad():\n",
    "    data,label = next(iter(train_loader))\n",
    "    inputs = data.reshape(-1,1,N,N).float()\n",
    "    labels = label.reshape(-1,N**2).float()    \n",
    "    outputs = network(inputs)"
   ]
  },
  {
   "cell_type": "code",
   "execution_count": 166,
   "id": "7e65f717",
   "metadata": {},
   "outputs": [
    {
     "data": {
      "image/png": "[encoded data removed]",
      "text/plain": [
       "<Figure size 432x288 with 2 Axes>"
      ]
     },
     "metadata": {
      "needs_background": "light"
     },
     "output_type": "display_data"
    }
   ],
   "source": [
    "eg = 27\n",
    "PlotMap(data[eg],label[eg])"
   ]
  },
  {
   "cell_type": "code",
   "execution_count": 167,
   "id": "8c01db0c",
   "metadata": {},
   "outputs": [
    {
     "data": {
      "image/png": "[encoded data removed]",
      "text/plain": [
       "<Figure size 432x288 with 2 Axes>"
      ]
     },
     "metadata": {
      "needs_background": "light"
     },
     "output_type": "display_data"
    }
   ],
   "source": [
    "PlotMap(data[eg],outputs[eg].reshape(N,N))"
   ]
  }
 ],
 "metadata": {
  "kernelspec": {
   "display_name": "Python 3",
   "language": "python",
   "name": "python3"
  },
  "language_info": {
   "codemirror_mode": {
    "name": "ipython",
    "version": 3
   },
   "file_extension": ".py",
   "mimetype": "text/x-python",
   "name": "python",
   "nbconvert_exporter": "python",
   "pygments_lexer": "ipython3",
   "version": "3.6.9"
  }
 },
 "nbformat": 4,
 "nbformat_minor": 5
}
