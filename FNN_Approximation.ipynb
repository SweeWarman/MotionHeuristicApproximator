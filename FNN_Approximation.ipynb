{
 "cells": [
  {
   "cell_type": "markdown",
   "id": "5f12e69c",
   "metadata": {},
   "source": [
    "# Map Heuristic Approximation\n",
    "\n",
    "The goal is to use neural networks to approximate map heuristics\n",
    "\n",
    "Let's start simple. Treat the problem as a regression problem for each map cell and use a simple fully connected neural network to estimate the value/heuristic (label). Let's see what this network can do."
   ]
  },
  {
   "cell_type": "markdown",
   "id": "8850f99a",
   "metadata": {},
   "source": [
    "## Custom data loader\n",
    "\n",
    "Creating the custom data loader to load our dataset. Each entry in the dataset is a tuple (A,M) where A is nxn array containing 0s for free space, 1s for obstacles and 0.5 for the goal location. There is only one goal location. The labels contain a nxn array where each cell contains the Value of each cell. The Value is a measure of \"closeness\" to the goal cell."
   ]
  },
  {
   "cell_type": "code",
   "execution_count": 1,
   "id": "a1da5a23",
   "metadata": {},
   "outputs": [],
   "source": [
    "import os\n",
    "import torch\n",
    "import torch.nn as nn\n",
    "import numpy as np\n",
    "\n",
    "\n",
    "class MapDataLoader(torch.utils.data.Dataset):\n",
    "    def __init__(self,file,root=\"./\"):\n",
    "        self.data = np.load(os.path.join(root,file))\n",
    "        \n",
    "    def __len__(self):\n",
    "        return self.data.shape[0]\n",
    "    \n",
    "    def __getitem__(self,index):\n",
    "        return self.data[index][0],self.data[index][1]"
   ]
  },
  {
   "cell_type": "markdown",
   "id": "184314d2",
   "metadata": {},
   "source": [
    "## Fully connected network\n",
    "\n",
    "Let's define a simple fully connected network. We'll be experimenting with number of layers and nodes per layer. "
   ]
  },
  {
   "cell_type": "code",
   "execution_count": 47,
   "id": "40c111e5",
   "metadata": {},
   "outputs": [],
   "source": [
    "from functools import reduce\n",
    "    \n",
    "class Network(nn.Module):\n",
    "    def __init__(self,inputs,hidden1,hidden2,hidden3,hidden4,output):\n",
    "        super(Network,self).__init__()\n",
    "        self.fc1   = nn.Linear(inputs,hidden1)\n",
    "        self.relu1 = nn.ReLU()\n",
    "        self.fc2   = nn.Linear(hidden1,hidden2)\n",
    "        self.relu2 = nn.ReLU()\n",
    "        self.fc3   = nn.Linear(hidden2,hidden3)\n",
    "        self.relu3 = nn.ReLU()\n",
    "        self.drop1 = nn.Dropout(0.7)\n",
    "        self.fc4   = nn.Linear(hidden3,hidden4)\n",
    "        self.relu4 = nn.ReLU()\n",
    "        self.drop2 = nn.Dropout(0.7)\n",
    "        self.fc5   = nn.Linear(hidden4,output)\n",
    "        self.sig   = nn.Sigmoid()\n",
    "        \n",
    "    def forward(self,x):\n",
    "        y = self.fc1(x)\n",
    "        y = self.relu1(y)\n",
    "        y = self.fc2(y)\n",
    "        y = self.relu2(y)\n",
    "        y = self.fc3(y) \n",
    "        y = self.relu3(y)\n",
    "        y = self.drop1(y)\n",
    "        y = self.fc4(y)\n",
    "        y = self.relu4(y)\n",
    "        y = self.drop2(y)\n",
    "        y = self.fc5(y)\n",
    "        y = self.sig(y)\n",
    "        return y\n",
    "        "
   ]
  },
  {
   "cell_type": "markdown",
   "id": "4a934677",
   "metadata": {},
   "source": [
    "## Custom loss function\n",
    "\n",
    "Let's create a custom loss function to better guide the learning process. Since we are treating this as a regression problem, the primary component of the loss function should involve a MSE loss. Additionally, we know what the outputs values should be for the map cells that already contain obstacles. Also, we know what the value should be for the goal position. The cost is defined as follows for input $x$ and prediction $\\hat{y}$ with label $y$\n",
    "\n",
    "$L_1 = \\frac{1}{N}\\sum||y-\\hat{y}||$\n",
    "\n",
    "$L_2 = \\frac{1}{n}\\sum||\\lambda_2 z y ||$\n",
    "\n",
    "$L_3 = \\frac{1}{n}\\sum||\\lambda_1 w - wy||$\n",
    "\n",
    "\n",
    "$L = L_1+L_2+L_3$\n",
    "\n",
    "Here $z$ is a matrix that contains 1s for obstacle cells and 0s for free space. Note that $z=x$ at all cells except at the goal cell. $w$ is a zero matrix with 1 at the goal cell.\n"
   ]
  },
  {
   "cell_type": "code",
   "execution_count": 48,
   "id": "590e5255",
   "metadata": {},
   "outputs": [],
   "source": [
    "from torch import tensor\n",
    "mseloss = torch.nn.MSELoss()\n",
    "def map_loss(inputs,outputs,labels,p1=0.0,p2=0.0):\n",
    "    At = inputs.detach().clone()\n",
    "    Bt = outputs.clone()\n",
    "    Ct = torch.zeros(At.shape)\n",
    "    Dt = torch.zeros(At.shape)\n",
    "    mask1 = At > 0.6\n",
    "    mask2 = torch.logical_and(At > 0.49,At < 0.51)\n",
    "    Ct[mask1] = 1.0\n",
    "    Dt[mask2] = 1.0\n",
    "    loss1 = mseloss(outputs,labels)\n",
    "    loss2 = torch.mean(torch.norm(p1*(Ct*Bt),dim=0))\n",
    "    loss3 = torch.mean(torch.norm(p2*(Dt-Dt*Bt),dim=0))\n",
    "    loss = loss1+loss2+loss3\n",
    "    return loss"
   ]
  },
  {
   "cell_type": "code",
   "execution_count": 49,
   "id": "ffd831cb",
   "metadata": {},
   "outputs": [],
   "source": [
    "data_location = '10by10_Obs'\n",
    "N = 10\n",
    "network = Network(N**2,500,500,100,100,N**2)"
   ]
  },
  {
   "cell_type": "code",
   "execution_count": 50,
   "id": "aa1a2090",
   "metadata": {},
   "outputs": [],
   "source": [
    "learning_rate = 0.001\n",
    "numEpochs = 20\n",
    "optimizer = torch.optim.Adam(network.parameters(),lr=learning_rate)"
   ]
  },
  {
   "cell_type": "code",
   "execution_count": 51,
   "id": "1b2c6324",
   "metadata": {},
   "outputs": [],
   "source": [
    "train_loader = torch.utils.data.DataLoader(dataset=MapDataLoader('dataset_train.npy',data_location),batch_size=30,shuffle=True)\n",
    "test_loader = torch.utils.data.DataLoader(dataset=MapDataLoader('dataset_test.npy',data_location),batch_size=30,shuffle=False)\n",
    "total_steps = len(train_loader)"
   ]
  },
  {
   "cell_type": "code",
   "execution_count": 62,
   "id": "02e5b3ec",
   "metadata": {},
   "outputs": [
    {
     "name": "stdout",
     "output_type": "stream",
     "text": [
      "Average loss after epoch 1:0.043922\n",
      "Average loss after epoch 2:0.043922\n",
      "Average loss after epoch 3:0.043858\n",
      "Average loss after epoch 4:0.043853\n",
      "Average loss after epoch 5:0.043864\n",
      "Average loss after epoch 6:0.043860\n",
      "Average loss after epoch 7:0.043791\n",
      "Average loss after epoch 8:0.043699\n",
      "Average loss after epoch 9:0.043851\n",
      "Average loss after epoch 10:0.043627\n",
      "Average loss after epoch 11:0.043738\n",
      "Average loss after epoch 12:0.043741\n",
      "Average loss after epoch 13:0.043670\n",
      "Average loss after epoch 14:0.043632\n",
      "Average loss after epoch 15:0.043631\n",
      "Average loss after epoch 16:0.043540\n",
      "Average loss after epoch 17:0.043536\n",
      "Average loss after epoch 18:0.043643\n",
      "Average loss after epoch 19:0.043537\n",
      "Average loss after epoch 20:0.043535\n"
     ]
    }
   ],
   "source": [
    "testid = '10x10_obs2'\n",
    "p1 = 0.0\n",
    "p2 = 0.0\n",
    "network.train()\n",
    "for epoch in range(numEpochs):\n",
    "    avg_loss = 0\n",
    "    for i,(data,label) in enumerate(train_loader):\n",
    "        inputs = data.reshape(-1,N**2).float()\n",
    "        labels = label.reshape(-1,N**2).float()\n",
    "        optimizer.zero_grad()\n",
    "        outputs = network(inputs)\n",
    "        loss = map_loss(inputs,outputs,labels,p1,p2)\n",
    "        loss.backward()\n",
    "        optimizer.step()\n",
    "        avg_loss += loss.item()\n",
    "    avg_loss /= total_steps\n",
    "    print('Average loss after epoch %d:%f' % (epoch+1,avg_loss))\n",
    "  \n",
    "          \n",
    "torch.save(network,os.path.join(data_location,testid+'.pt'))"
   ]
  },
  {
   "cell_type": "code",
   "execution_count": 63,
   "id": "37b4238b",
   "metadata": {},
   "outputs": [
    {
     "name": "stdout",
     "output_type": "stream",
     "text": [
      "Average testing loss: 0.068773\n"
     ]
    }
   ],
   "source": [
    "## Evaluate network on test data\n",
    "\n",
    "#network = torch.load(os.path.join(data_location,testid+'.pt'))\n",
    "network.eval()\n",
    "from MapGenerator import PlotMap\n",
    "loss = 0\n",
    "test_size = len(test_loader)\n",
    "with torch.no_grad():\n",
    "    for (data,label) in test_loader:\n",
    "        inputs = data.reshape(-1,N**2).float()\n",
    "        labels = label.reshape(-1,N**2).float()    \n",
    "        outputs = network(inputs)\n",
    "        loss +=  map_loss(inputs,outputs,labels,p1,p2)\n",
    "    loss /= test_size\n",
    "    print('Average testing loss: %f' %(loss))"
   ]
  },
  {
   "cell_type": "code",
   "execution_count": 64,
   "id": "02b245a5",
   "metadata": {},
   "outputs": [],
   "source": [
    "with torch.no_grad():\n",
    "    data,label = next(iter(train_loader))\n",
    "    inputs = data.reshape(-1,N**2).float()\n",
    "    labels = label.reshape(-1,N**2).float()    \n",
    "    outputs = network(inputs)"
   ]
  },
  {
   "cell_type": "code",
   "execution_count": 70,
   "id": "fdb2e6b6",
   "metadata": {},
   "outputs": [
    {
     "data": {
      "image/png": "[encoded data removed]",
      "text/plain": [
       "<Figure size 432x288 with 2 Axes>"
      ]
     },
     "metadata": {
      "needs_background": "light"
     },
     "output_type": "display_data"
    }
   ],
   "source": [
    "eg = 13\n",
    "PlotMap(data[eg],label[eg])"
   ]
  },
  {
   "cell_type": "code",
   "execution_count": 71,
   "id": "79598614",
   "metadata": {},
   "outputs": [
    {
     "data": {
      "image/png": "[encoded data removed]",
      "text/plain": [
       "<Figure size 432x288 with 2 Axes>"
      ]
     },
     "metadata": {
      "needs_background": "light"
     },
     "output_type": "display_data"
    }
   ],
   "source": [
    "PlotMap(data[eg],outputs[eg].reshape(N,N))"
   ]
  },
  {
   "cell_type": "markdown",
   "id": "3cc02d18",
   "metadata": {},
   "source": [
    "## Remarks\n",
    "\n",
    "The network seems to be doing okay with the predictions on the test set in a 5x5 grid. 10x10 grid doesn't seem promising with a fully connected network. There might by other tricks that could be applied to get better results on a 10x10 with fully connected network.\n",
    "\n",
    "Let's try a CNN to see how well it can perform."
   ]
  }
 ],
 "metadata": {
  "kernelspec": {
   "display_name": "Python 3",
   "language": "python",
   "name": "python3"
  },
  "language_info": {
   "codemirror_mode": {
    "name": "ipython",
    "version": 3
   },
   "file_extension": ".py",
   "mimetype": "text/x-python",
   "name": "python",
   "nbconvert_exporter": "python",
   "pygments_lexer": "ipython3",
   "version": "3.6.9"
  }
 },
 "nbformat": 4,
 "nbformat_minor": 5
}
