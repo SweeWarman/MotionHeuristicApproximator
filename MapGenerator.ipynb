{
 "cells": [
  {
   "cell_type": "markdown",
   "id": "69112284",
   "metadata": {},
   "source": [
    "# Motion Planning Heuristic Approximation\n",
    "\n",
    "This is simple research effort to evaluate how well motion planning heuristics can be approximated via learning based function approximators (i.e. deep neural network architectures). \n",
    "\n",
    "The first step here is to generate a dataset of motion planning heuristics. For this purpose, I've chosen to generate a random environment in the form of occupancy grids. Then use Value iteration to construct a heat map that captures a heuristic of distance to final destination. The goal is to then try to approximate this heatmap given an input environment."
   ]
  },
  {
   "cell_type": "code",
   "execution_count": 1,
   "id": "bea97640",
   "metadata": {},
   "outputs": [],
   "source": [
    "import numpy as np\n",
    "from matplotlib import pyplot as plt"
   ]
  },
  {
   "cell_type": "code",
   "execution_count": 94,
   "id": "101a2129",
   "metadata": {},
   "outputs": [],
   "source": [
    "def GetTransitionMatrix(D):\n",
    "    n = D.shape[0]\n",
    "    total = n*n\n",
    "    transitionMatrix = np.zeros((total,total))\n",
    "    for k in range(total):\n",
    "        i = k//n\n",
    "        j = k%n\n",
    "        \n",
    "        if D[i,j] > 0:\n",
    "            continue\n",
    "        \n",
    "        up   = i - 1\n",
    "        down = i + 1\n",
    "        left = j - 1\n",
    "        right = j + 1  \n",
    "        \n",
    "        if up >= 0 and D[up,j] < 1:\n",
    "            nextI = up*n + j\n",
    "            transitionMatrix[k,nextI] = 1\n",
    "        \n",
    "        if down < n and D[down,j] < 1:\n",
    "            nextI = down*n + j\n",
    "            transitionMatrix[k,nextI] = 1\n",
    "            \n",
    "        if left >= 0 and D[i,left] < 1:\n",
    "            nextI = i*n + left\n",
    "            transitionMatrix[k,nextI] = 1\n",
    "        \n",
    "        if right < n and D[i,right] < 1:\n",
    "            nextI = i*n + right\n",
    "            transitionMatrix[k,nextI] = 1\n",
    "            \n",
    "            \n",
    "        den = np.sum(transitionMatrix[k,:])\n",
    "        if den > 0:\n",
    "            transitionMatrix[k,:] = transitionMatrix[k,:]/den\n",
    "        \n",
    "    return transitionMatrix\n",
    "                "
   ]
  },
  {
   "cell_type": "code",
   "execution_count": 95,
   "id": "ad94f607",
   "metadata": {},
   "outputs": [],
   "source": [
    "def RunValueIteration(V,T,R):\n",
    "    err = 100\n",
    "    Vnew = V\n",
    "    gamma = 0.99\n",
    "    while err > 1e-5:\n",
    "        Vnew = R + gamma*np.dot(T,V)\n",
    "        err = np.linalg.norm(Vnew-V)\n",
    "        V = Vnew\n",
    "        #print(err)\n",
    "    return Vnew"
   ]
  },
  {
   "cell_type": "code",
   "execution_count": 96,
   "id": "05e557c0",
   "metadata": {},
   "outputs": [],
   "source": [
    "def ConvertV2Map(V,normalize=True):\n",
    "    n = int(np.sqrt(V.shape[0]))\n",
    "    M = np.zeros((n,n))\n",
    "    for k in range(V.shape[0]):\n",
    "        i = k//n\n",
    "        j = k%n\n",
    "        M[i,j] = V[k]\n",
    "    \n",
    "    if normalize:\n",
    "        M = M/np.max(M)\n",
    "    return M"
   ]
  },
  {
   "cell_type": "code",
   "execution_count": 97,
   "id": "f83d8f6d",
   "metadata": {},
   "outputs": [],
   "source": [
    "def GenerateData(mapSize,numSamples,obsprob=0.7,test=None):\n",
    "    N = mapSize\n",
    "    goali = min(int(np.random.rand(1)*10),N-1)\n",
    "    goalj = min(int(np.random.rand(1)*10),N-1)\n",
    "    if test is None:\n",
    "        A = np.random.rand(N,N)\n",
    "    else:\n",
    "        A = test\n",
    "    A[A >  obsprob] = 1\n",
    "    A[A <= obsprob] = 0\n",
    "    V0 = np.zeros((N*N,1))\n",
    "    R = np.zeros((N*N,1))\n",
    "    R[int(goali*N+goalj),0] = 1000\n",
    "    A[goali,goalj] = 0.0\n",
    "    T = GetTransitionMatrix(A)\n",
    "    Vnew = RunValueIteration(V0,T,R)\n",
    "    M = ConvertV2Map(Vnew)\n",
    "    return (A,M)"
   ]
  },
  {
   "cell_type": "code",
   "execution_count": 101,
   "id": "7e4e7698",
   "metadata": {},
   "outputs": [],
   "source": [
    "def PlotMap(A,M):\n",
    "    ax1 = plt.subplot(121)\n",
    "    ax2 = plt.subplot(122)\n",
    "    ax1.imshow(A,cmap='Greys')\n",
    "    ax2.imshow(M)"
   ]
  },
  {
   "cell_type": "code",
   "execution_count": 110,
   "id": "586eefb8",
   "metadata": {},
   "outputs": [
    {
     "data": {
      "image/png": "[encoded data removed]",
      "text/plain": [
       "<Figure size 432x288 with 2 Axes>"
      ]
     },
     "metadata": {
      "needs_background": "light"
     },
     "output_type": "display_data"
    }
   ],
   "source": [
    "A,M = GenerateData(3,1)\n",
    "PlotMap(A,M)"
   ]
  },
  {
   "cell_type": "code",
   "execution_count": 104,
   "id": "b56dbff8",
   "metadata": {},
   "outputs": [
    {
     "data": {
      "text/plain": [
       "array([[0.        , 0.91563556, 0.9248844 ],\n",
       "       [0.91563556, 0.        , 0.95281778],\n",
       "       [0.9248844 , 0.95281778, 1.        ]])"
      ]
     },
     "execution_count": 104,
     "metadata": {},
     "output_type": "execute_result"
    }
   ],
   "source": [
    "M"
   ]
  },
  {
   "cell_type": "code",
   "execution_count": 93,
   "id": "49e99ded",
   "metadata": {},
   "outputs": [
    {
     "data": {
      "text/plain": [
       "array([[0., 1., 0.],\n",
       "       [0., 0., 0.],\n",
       "       [0., 0., 0.]])"
      ]
     },
     "execution_count": 93,
     "metadata": {},
     "output_type": "execute_result"
    }
   ],
   "source": [
    "A"
   ]
  },
  {
   "cell_type": "code",
   "execution_count": 70,
   "id": "eb80583d",
   "metadata": {},
   "outputs": [],
   "source": [
    "T = GetTransitionMatrix(test)"
   ]
  },
  {
   "cell_type": "code",
   "execution_count": 72,
   "id": "428afa56",
   "metadata": {},
   "outputs": [
    {
     "data": {
      "text/plain": [
       "0.5"
      ]
     },
     "execution_count": 72,
     "metadata": {},
     "output_type": "execute_result"
    }
   ],
   "source": [
    "T[6*10 + 0,6*10+1]"
   ]
  },
  {
   "cell_type": "code",
   "execution_count": 73,
   "id": "512445ee",
   "metadata": {},
   "outputs": [
    {
     "ename": "NameError",
     "evalue": "name 'R' is not defined",
     "output_type": "error",
     "traceback": [
      "\u001b[0;31m---------------------------------------------------------------------------\u001b[0m",
      "\u001b[0;31mNameError\u001b[0m                                 Traceback (most recent call last)",
      "\u001b[0;32m<ipython-input-73-818bdcfe4157>\u001b[0m in \u001b[0;36m<module>\u001b[0;34m\u001b[0m\n\u001b[0;32m----> 1\u001b[0;31m \u001b[0mR\u001b[0m\u001b[0;34m[\u001b[0m\u001b[0;36m6\u001b[0m\u001b[0;34m*\u001b[0m\u001b[0;36m10\u001b[0m \u001b[0;34m+\u001b[0m \u001b[0;36m0\u001b[0m\u001b[0;34m,\u001b[0m\u001b[0;36m7\u001b[0m\u001b[0;34m*\u001b[0m\u001b[0;36m10\u001b[0m \u001b[0;34m+\u001b[0m \u001b[0;36m0\u001b[0m\u001b[0;34m]\u001b[0m\u001b[0;34m\u001b[0m\u001b[0;34m\u001b[0m\u001b[0m\n\u001b[0m",
      "\u001b[0;31mNameError\u001b[0m: name 'R' is not defined"
     ]
    }
   ],
   "source": [
    "R[6*10 + 0,7*10 + 0]"
   ]
  },
  {
   "cell_type": "code",
   "execution_count": null,
   "id": "63a5f4bf",
   "metadata": {},
   "outputs": [],
   "source": []
  }
 ],
 "metadata": {
  "kernelspec": {
   "display_name": "Python 3",
   "language": "python",
   "name": "python3"
  },
  "language_info": {
   "codemirror_mode": {
    "name": "ipython",
    "version": 3
   },
   "file_extension": ".py",
   "mimetype": "text/x-python",
   "name": "python",
   "nbconvert_exporter": "python",
   "pygments_lexer": "ipython3",
   "version": "3.6.9"
  }
 },
 "nbformat": 4,
 "nbformat_minor": 5
}
