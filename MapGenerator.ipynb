{
 "cells": [
  {
   "cell_type": "code",
   "execution_count": 142,
   "id": "59c97135",
   "metadata": {},
   "outputs": [],
   "source": [
    "import numpy as np\n",
    "from matplotlib import pyplot as plt"
   ]
  },
  {
   "cell_type": "code",
   "execution_count": 143,
   "id": "1c1d8e8c",
   "metadata": {},
   "outputs": [],
   "source": [
    "def GetTransitionMatrix(D):\n",
    "    n = D.shape[0]\n",
    "    total = n*n\n",
    "    transitionMatrix = np.zeros((total,total))\n",
    "    for k in range(total):\n",
    "        i = k//n\n",
    "        j = k%n\n",
    "        \n",
    "        if D[i,j] > 0:\n",
    "            continue\n",
    "        \n",
    "        up   = i - 1\n",
    "        down = i + 1\n",
    "        left = j - 1\n",
    "        right = j + 1  \n",
    "        \n",
    "        if up > 0 and D[up,j] < 1:\n",
    "            nextI = up*n + j\n",
    "            transitionMatrix[k,nextI] = 1\n",
    "        \n",
    "        if down < N and D[down,j] < 1:\n",
    "            nextI = down*n + j\n",
    "            transitionMatrix[k,nextI] = 1\n",
    "            \n",
    "        if left > 0 and D[i,left] < 1:\n",
    "            nextI = i*n + left\n",
    "            transitionMatrix[k,nextI] = 1\n",
    "        \n",
    "        if right < N and D[i,right] < 1:\n",
    "            nextI = i*n + right\n",
    "            transitionMatrix[k,nextI] = 1\n",
    "            \n",
    "            \n",
    "        den = np.sum(transitionMatrix[k,:])\n",
    "        if den > 0:\n",
    "            transitionMatrix[k,:] = transitionMatrix[k,:]/den\n",
    "        \n",
    "    return transitionMatrix\n",
    "                "
   ]
  },
  {
   "cell_type": "code",
   "execution_count": 144,
   "id": "e56ba8c0",
   "metadata": {},
   "outputs": [],
   "source": [
    "def RunValueIteration(V,T,R):\n",
    "    err = 100\n",
    "    Vnew = V\n",
    "    gamma = 0.99\n",
    "    while err > 1e-1:\n",
    "        Vnew = R + gamma*np.dot(T,V)\n",
    "        err = np.linalg.norm(Vnew-V)\n",
    "        V = Vnew\n",
    "        #print(err)\n",
    "    return Vnew"
   ]
  },
  {
   "cell_type": "code",
   "execution_count": 145,
   "id": "a9d3e102",
   "metadata": {},
   "outputs": [],
   "source": [
    "def ConvertV2Map(V,normalize=True):\n",
    "    n = int(np.sqrt(V.shape[0]))\n",
    "    M = np.zeros((n,n))\n",
    "    for k in range(V.shape[0]):\n",
    "        i = k//n\n",
    "        j = k%n\n",
    "        M[i,j] = V[k]\n",
    "    \n",
    "    if normalize:\n",
    "        M = M/np.max(M)\n",
    "    return M"
   ]
  },
  {
   "cell_type": "code",
   "execution_count": 178,
   "id": "f6fb8774",
   "metadata": {},
   "outputs": [
    {
     "name": "stdout",
     "output_type": "stream",
     "text": [
      "Goal i,j: 6 3\n"
     ]
    },
    {
     "data": {
      "image/png": "[encoded data removed]",
      "text/plain": [
       "<Figure size 432x288 with 2 Axes>"
      ]
     },
     "metadata": {
      "needs_background": "light"
     },
     "output_type": "display_data"
    }
   ],
   "source": [
    "N = 10\n",
    "goali,goalj = (6,3)\n",
    "A = np.random.rand(N,N)\n",
    "A[A >  0.7] = 1\n",
    "A[A <= 0.7] = 0\n",
    "V0 = np.zeros((N*N,1))\n",
    "R = np.zeros((N*N,1))\n",
    "R[int(goali*N+goalj),0] = 1000\n",
    "A[goali,goalj] = 0.0\n",
    "T = GetTransitionMatrix(A)\n",
    "Vnew = RunValueIteration(V0,T,R)\n",
    "M = ConvertV2Map(Vnew)\n",
    "ax1 = plt.subplot(121)\n",
    "ax2 = plt.subplot(122)\n",
    "ax1.imshow(A,cmap='Greys',vmin=0,vmax=1)\n",
    "ax2.imshow(M)\n",
    "print(\"Goal i,j:\",goali,goalj)"
   ]
  },
  {
   "cell_type": "code",
   "execution_count": null,
   "id": "bb009c4e",
   "metadata": {},
   "outputs": [],
   "source": []
  }
 ],
 "metadata": {
  "kernelspec": {
   "display_name": "Python 3",
   "language": "python",
   "name": "python3"
  },
  "language_info": {
   "codemirror_mode": {
    "name": "ipython",
    "version": 3
   },
   "file_extension": ".py",
   "mimetype": "text/x-python",
   "name": "python",
   "nbconvert_exporter": "python",
   "pygments_lexer": "ipython3",
   "version": "3.6.9"
  }
 },
 "nbformat": 4,
 "nbformat_minor": 5
}
