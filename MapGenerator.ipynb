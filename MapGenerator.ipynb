{
 "cells": [
  {
   "cell_type": "markdown",
   "id": "69112284",
   "metadata": {},
   "source": [
    "# Dataset Generation\n",
    "\n",
    "This is simple research effort to evaluate how well motion planning heuristics can be approximated via learning based function approximators (i.e. deep neural network architectures). \n",
    "\n",
    "The first step here is to generate a dataset of motion planning heuristics. For this purpose, I've chosen to generate a random environment in the form of occupancy grids. Then use Value iteration to construct a heat map that captures a heuristic of distance to final destination. The goal is to then try to approximate this heatmap given an input environment."
   ]
  },
  {
   "cell_type": "code",
   "execution_count": 11,
   "id": "bea97640",
   "metadata": {},
   "outputs": [],
   "source": [
    "import numpy as np\n",
    "from matplotlib import pyplot as plt"
   ]
  },
  {
   "cell_type": "markdown",
   "id": "8f25aba8",
   "metadata": {},
   "source": [
    "## Transition Matrix\n",
    "\n",
    "Transition matrix describes the possible transition between all pairs of states."
   ]
  },
  {
   "cell_type": "code",
   "execution_count": 12,
   "id": "101a2129",
   "metadata": {},
   "outputs": [],
   "source": [
    "def GetTransitionMatrix(D):\n",
    "    n = D.shape[0]\n",
    "    total = n*n\n",
    "    transitionMatrix = np.zeros((total,total))\n",
    "    for k in range(total):\n",
    "        i = k//n\n",
    "        j = k%n\n",
    "        \n",
    "        if D[i,j] > 0:\n",
    "            continue\n",
    "        \n",
    "        up   = i - 1\n",
    "        down = i + 1\n",
    "        left = j - 1\n",
    "        right = j + 1  \n",
    "        \n",
    "        if up >= 0 and D[up,j] < 1:\n",
    "            nextI = up*n + j\n",
    "            transitionMatrix[k,nextI] = 1\n",
    "        \n",
    "        if down < n and D[down,j] < 1:\n",
    "            nextI = down*n + j\n",
    "            transitionMatrix[k,nextI] = 1\n",
    "            \n",
    "        if left >= 0 and D[i,left] < 1:\n",
    "            nextI = i*n + left\n",
    "            transitionMatrix[k,nextI] = 1\n",
    "        \n",
    "        if right < n and D[i,right] < 1:\n",
    "            nextI = i*n + right\n",
    "            transitionMatrix[k,nextI] = 1\n",
    "            \n",
    "            \n",
    "        den = np.sum(transitionMatrix[k,:])\n",
    "        if den > 0:\n",
    "            transitionMatrix[k,:] = transitionMatrix[k,:]/den\n",
    "        \n",
    "    return transitionMatrix\n",
    "                "
   ]
  },
  {
   "cell_type": "markdown",
   "id": "0656b7d1",
   "metadata": {},
   "source": [
    "## Value Iteration"
   ]
  },
  {
   "cell_type": "code",
   "execution_count": 13,
   "id": "ad94f607",
   "metadata": {},
   "outputs": [],
   "source": [
    "def RunValueIteration(V,T,R):\n",
    "    err = 100\n",
    "    Vnew = V\n",
    "    gamma = 0.99\n",
    "    while err > 1e-5:\n",
    "        Vnew = R + gamma*np.dot(T,V)\n",
    "        err = np.linalg.norm(Vnew-V)\n",
    "        V = Vnew\n",
    "        #print(err)\n",
    "    return Vnew"
   ]
  },
  {
   "cell_type": "code",
   "execution_count": 14,
   "id": "05e557c0",
   "metadata": {},
   "outputs": [],
   "source": [
    "def ConvertV2Map(V,normalize=True):\n",
    "    n = int(np.sqrt(V.shape[0]))\n",
    "    M = np.zeros((n,n))\n",
    "    for k in range(V.shape[0]):\n",
    "        i = k//n\n",
    "        j = k%n\n",
    "        M[i,j] = V[k]\n",
    "    \n",
    "    if normalize:\n",
    "        M = M/np.max(M)\n",
    "    return M"
   ]
  },
  {
   "cell_type": "code",
   "execution_count": 15,
   "id": "b4decfe1",
   "metadata": {},
   "outputs": [],
   "source": [
    "def GenerateData(mapSize,obsprob=0.7,test=None):\n",
    "    N = mapSize\n",
    "    goali = min(int(np.random.rand(1)*10),N-1)\n",
    "    goalj = min(int(np.random.rand(1)*10),N-1)\n",
    "    if test is None:\n",
    "        A = np.random.rand(N,N)\n",
    "    else:\n",
    "        A = test\n",
    "    A[A >  obsprob] = 1\n",
    "    A[A <= obsprob] = 0\n",
    "    V0 = np.zeros((N*N,1))\n",
    "    R = np.zeros((N*N,1))\n",
    "    R[int(goali*N+goalj),0] = 1000\n",
    "    A[goali,goalj] = 0.0\n",
    "    T = GetTransitionMatrix(A)\n",
    "    Vnew = RunValueIteration(V0,T,R)\n",
    "    M = ConvertV2Map(Vnew)\n",
    "    A[goali,goalj] = 0.5\n",
    "    return (A,M)"
   ]
  },
  {
   "cell_type": "code",
   "execution_count": 16,
   "id": "9961a7d4",
   "metadata": {},
   "outputs": [],
   "source": [
    "def PlotMap(A,M):\n",
    "    ax1 = plt.subplot(121)\n",
    "    ax2 = plt.subplot(122)\n",
    "    ax1.imshow(A,cmap='Greys',vmin=0,vmax=1)\n",
    "    ax2.imshow(M)"
   ]
  },
  {
   "cell_type": "code",
   "execution_count": 17,
   "id": "586eefb8",
   "metadata": {},
   "outputs": [
    {
     "data": {
      "image/png": "[encoded data removed]",
      "text/plain": [
       "<Figure size 432x288 with 2 Axes>"
      ]
     },
     "metadata": {
      "needs_background": "light"
     },
     "output_type": "display_data"
    }
   ],
   "source": [
    "A,M = GenerateData(10,obsprob=0.7)\n",
    "PlotMap(A,M)"
   ]
  },
  {
   "cell_type": "code",
   "execution_count": 8,
   "id": "4ade2050",
   "metadata": {},
   "outputs": [
    {
     "name": "stderr",
     "output_type": "stream",
     "text": [
      "2021-09-15 09:07:11,589\tINFO services.py:1265 -- View the Ray dashboard at \u001b[1m\u001b[32mhttp://127.0.0.1:8266\u001b[39m\u001b[22m\n"
     ]
    }
   ],
   "source": [
    "import ray\n",
    "ray.init()\n",
    "\n",
    "# Generate dataset\n",
    "imageSize = 10\n",
    "dataSetSize = 50000\n",
    "\n",
    "@ray.remote\n",
    "# Wrap generator for multiprocessing\n",
    "def f(_):\n",
    "    return GenerateData(imageSize,obsprob=0.7)"
   ]
  },
  {
   "cell_type": "code",
   "execution_count": 9,
   "id": "371b717c",
   "metadata": {},
   "outputs": [
    {
     "name": "stdout",
     "output_type": "stream",
     "text": [
      "242.14350485801697\n"
     ]
    }
   ],
   "source": [
    "import time\n",
    "start = time.time()\n",
    "futures = [f.remote(i) for i in range(dataSetSize)]\n",
    "result = ray.get(futures)\n",
    "end = time.time()\n",
    "print(end-start)\n",
    "with open('dataset_train.npy','wb') as fp:\n",
    "    np.save(fp,np.array(result[:40000]))\n",
    "    \n",
    "with open('dataset_test.npy','wb') as fp:\n",
    "    np.save(fp,np.array(result[40000:]))"
   ]
  },
  {
   "cell_type": "code",
   "execution_count": null,
   "id": "1fd8c544",
   "metadata": {},
   "outputs": [],
   "source": [
    "PlotMap(*result[0])"
   ]
  }
 ],
 "metadata": {
  "kernelspec": {
   "display_name": "Python 3",
   "language": "python",
   "name": "python3"
  },
  "language_info": {
   "codemirror_mode": {
    "name": "ipython",
    "version": 3
   },
   "file_extension": ".py",
   "mimetype": "text/x-python",
   "name": "python",
   "nbconvert_exporter": "python",
   "pygments_lexer": "ipython3",
   "version": "3.6.9"
  }
 },
 "nbformat": 4,
 "nbformat_minor": 5
}
