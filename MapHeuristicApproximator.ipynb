{
 "cells": [
  {
   "cell_type": "markdown",
   "id": "5f12e69c",
   "metadata": {},
   "source": [
    "# Map Heuristic Approximation\n",
    "\n",
    "The goal is to use neural networks to approximate map heuristics\n",
    "\n",
    "Let's start simple. Treat the problem as a regression problem for each map cell and use a simple fully connected neural network to estimate the value/heuristic (label). Let's see what this network can do."
   ]
  },
  {
   "cell_type": "markdown",
   "id": "8850f99a",
   "metadata": {},
   "source": [
    "## Custom data loader\n",
    "\n",
    "Creating the custom data loader to load our dataset. Each entry in the dataset is a tuple (A,M) where A is nxn array containing 0s for free space, 1s for obstacles and 0.5 for the goal location. There is only one goal location. The labels contain a nxn array where each cell contains the Value of each cell. The Value is a measure of \"closeness\" to the goal cell."
   ]
  },
  {
   "cell_type": "code",
   "execution_count": 207,
   "id": "a1da5a23",
   "metadata": {},
   "outputs": [],
   "source": [
    "import os\n",
    "import torch\n",
    "import torch.nn as nn\n",
    "import numpy as np\n",
    "\n",
    "\n",
    "class MapDataLoader(torch.utils.data.Dataset):\n",
    "    def __init__(self,file,root=\"./\"):\n",
    "        self.data = np.load(os.path.join(root,file))\n",
    "        \n",
    "    def __len__(self):\n",
    "        return self.data.shape[0]\n",
    "    \n",
    "    def __getitem__(self,index):\n",
    "        return self.data[index][0],self.data[index][1]"
   ]
  },
  {
   "cell_type": "markdown",
   "id": "184314d2",
   "metadata": {},
   "source": [
    "## Fully connected network\n",
    "\n",
    "Let's define a simple fully connected network. We'll be experimenting with number of layers and nodes per layer. "
   ]
  },
  {
   "cell_type": "code",
   "execution_count": 208,
   "id": "40c111e5",
   "metadata": {},
   "outputs": [],
   "source": [
    "from functools import reduce\n",
    "    \n",
    "class Network(nn.Module):\n",
    "    def __init__(self,inputs,hidden1,hidden2,hidden3,hidden4,output):\n",
    "        super(Network,self).__init__()\n",
    "        self.fc1   = nn.Linear(inputs,hidden1)\n",
    "        self.relu1 = nn.ReLU()\n",
    "        self.fc2   = nn.Linear(hidden1,hidden2)\n",
    "        self.relu2 = nn.ReLU()\n",
    "        self.fc3   = nn.Linear(hidden2,hidden3)\n",
    "        self.relu3 = nn.ReLU()\n",
    "        self.fc4   = nn.Linear(hidden3,hidden4)\n",
    "        self.relu4 = nn.ReLU()\n",
    "        self.fc5   = nn.Linear(hidden4,output)\n",
    "        self.sig   = nn.Sigmoid()\n",
    "        \n",
    "    def forward(self,x):\n",
    "        y = self.fc1(x)\n",
    "        y = self.relu1(y)\n",
    "        y = self.fc2(y)\n",
    "        y = self.relu2(y)\n",
    "        y = self.fc3(y) \n",
    "        y = self.relu3(y)\n",
    "        y = self.fc4(y)\n",
    "        y = self.relu4(y)\n",
    "        y = self.fc5(y)\n",
    "        y = self.sig(y)\n",
    "        return y\n",
    "        "
   ]
  },
  {
   "cell_type": "markdown",
   "id": "4a934677",
   "metadata": {},
   "source": [
    "## Custom loss function\n",
    "\n",
    "Let's create a custom loss function to better guide the learning process. Since we are treating this as a regression problem, the primary component of the loss function should involve a MSE loss. Additionally, we know what the outputs values should be for the map cells that already contain obstacles. Also, we know what the value should be for the goal position. The cost is defined as follows for input $x$ and prediction $\\hat{y}$ with label $y$\n",
    "\n",
    "$L_1 = \\frac{1}{N}\\sum||y-\\hat{y}||$\n",
    "\n",
    "$L_2 = \\frac{1}{n}\\sum||\\lambda_2 z y ||$\n",
    "\n",
    "$L_3 = \\frac{1}{n}\\sum||\\lambda_1 w - wy||$\n",
    "\n",
    "\n",
    "$L = L_1+L_2+L_3$\n",
    "\n",
    "Here $z$ is a matrix that contains 1s for obstacle cells and 0s for free space. Note that $z=x$ at all cells except at the goal cell. $w$ is a zero matrix with 1 at the goal cell.\n"
   ]
  },
  {
   "cell_type": "code",
   "execution_count": 269,
   "id": "590e5255",
   "metadata": {},
   "outputs": [],
   "source": [
    "from torch import tensor\n",
    "mseloss = torch.nn.MSELoss()\n",
    "def map_loss(inputs,outputs,labels,p1=0.0,p2=0.0):\n",
    "    At = inputs.detach().clone()\n",
    "    Bt = outputs.clone()\n",
    "    Ct = torch.zeros(At.shape)\n",
    "    Dt = torch.zeros(At.shape)\n",
    "    mask1 = At > 0.6\n",
    "    mask2 = torch.logical_and(At > 0.49,At < 0.51)\n",
    "    Ct[mask1] = 1.0\n",
    "    Dt[mask2] = 1.0\n",
    "    loss1 = mseloss(outputs,labels)\n",
    "    loss2 = torch.mean(torch.norm(p1*(Ct*Bt),dim=0))\n",
    "    loss3 = torch.mean(torch.norm(p2*(Dt-Dt*Bt),dim=0))\n",
    "    loss = loss1+loss2+loss3\n",
    "    return loss"
   ]
  },
  {
   "cell_type": "code",
   "execution_count": 279,
   "id": "ffd831cb",
   "metadata": {},
   "outputs": [],
   "source": [
    "data_location = '5by5_Obs'\n",
    "N = 5\n",
    "network = Network(N**2,500,500,100,100,N**2)"
   ]
  },
  {
   "cell_type": "code",
   "execution_count": 271,
   "id": "aa1a2090",
   "metadata": {},
   "outputs": [],
   "source": [
    "learning_rate = 0.001\n",
    "numEpochs = 10\n",
    "optimizer = torch.optim.Adam(network.parameters(),lr=learning_rate)"
   ]
  },
  {
   "cell_type": "code",
   "execution_count": 272,
   "id": "1b2c6324",
   "metadata": {},
   "outputs": [],
   "source": [
    "train_loader = torch.utils.data.DataLoader(dataset=MapDataLoader('dataset_train.npy',data_location),batch_size=30,shuffle=True)\n",
    "test_loader = torch.utils.data.DataLoader(dataset=MapDataLoader('dataset_test.npy',data_location),batch_size=30,shuffle=False)\n",
    "total_steps = len(train_loader)"
   ]
  },
  {
   "cell_type": "code",
   "execution_count": null,
   "id": "02e5b3ec",
   "metadata": {},
   "outputs": [],
   "source": [
    "testid = '5x5_obs1'\n",
    "p1 = 0.0\n",
    "p2 = 0.0\n",
    "for epoch in range(numEpochs):\n",
    "    avg_loss = 0\n",
    "    for i,(data,label) in enumerate(train_loader):\n",
    "        inputs = data.reshape(-1,N**2).float()\n",
    "        labels = label.reshape(-1,N**2).float()\n",
    "        optimizer.zero_grad()\n",
    "        outputs = network(inputs)\n",
    "        loss = map_loss(inputs,outputs,labels,p1,p2)\n",
    "        loss.backward()\n",
    "        optimizer.step()\n",
    "        avg_loss += loss.item()\n",
    "    avg_loss /= total_steps\n",
    "    print('Average loss after epoch %d:%f' % (i+1,avg_loss))\n",
    "  \n",
    "          \n",
    "torch.save(network,os.path.join(data_location,testid+'.pt'))"
   ]
  },
  {
   "cell_type": "code",
   "execution_count": 282,
   "id": "37b4238b",
   "metadata": {},
   "outputs": [
    {
     "name": "stdout",
     "output_type": "stream",
     "text": [
      "[[0.70339526 0.         0.76887237 0.79077404 0.820621  ]\n",
      " [0.71050026 0.73195881 0.76250347 0.80679161 0.86704616]\n",
      " [0.         0.74505326 0.7731993  0.83944042 1.        ]\n",
      " [0.         0.         0.77704043 0.81168756 0.86951853]\n",
      " [0.         0.7620833  0.76978111 0.7935463  0.82321709]]\n",
      "[[7.4086940e-01 2.6024721e-04 7.7304900e-01 8.3920503e-01 8.7558687e-01]\n",
      " [8.0143070e-01 7.3447627e-01 7.5702995e-01 8.5137439e-01 8.8413084e-01]\n",
      " [4.0363693e-03 7.1227705e-01 8.0166757e-01 8.2327884e-01 8.6186916e-01]\n",
      " [6.1122410e-02 2.9402161e-05 8.1865412e-01 8.2359087e-01 8.3274496e-01]\n",
      " [4.9846908e-03 7.8844792e-01 8.1258196e-01 8.3023727e-01 6.8445021e-01]]\n"
     ]
    }
   ],
   "source": [
    "## debugging\n",
    "network = torch.load(os.path.join(data_location,testid+'.pt'))\n",
    "network.eval()\n",
    "from MapGenerator import PlotMap\n",
    "loss = 0\n",
    "with torch.no_grad():\n",
    "    data,label = next(iter(test_loader))\n",
    "    inputs = data.reshape(-1,N**2).float()\n",
    "    labels = label.reshape(-1,N**2).float()    \n",
    "    outputs = network(inputs)\n",
    "    loss +=  map_loss()\n",
    "    #print(label[0].numpy().reshape(N,N))\n",
    "    #print(outputs[0].reshape(N,N))"
   ]
  },
  {
   "cell_type": "code",
   "execution_count": 283,
   "id": "fdb2e6b6",
   "metadata": {},
   "outputs": [
    {
     "data": {
      "image/png": "[encoded data removed]",
      "text/plain": [
       "<Figure size 432x288 with 2 Axes>"
      ]
     },
     "metadata": {
      "needs_background": "light"
     },
     "output_type": "display_data"
    }
   ],
   "source": [
    "PlotMap(inputs[0].numpy().reshape(N,N),labels[0].numpy().reshape(N,N))"
   ]
  },
  {
   "cell_type": "code",
   "execution_count": 284,
   "id": "79598614",
   "metadata": {},
   "outputs": [
    {
     "data": {
      "image/png": "[encoded data removed]",
      "text/plain": [
       "<Figure size 432x288 with 2 Axes>"
      ]
     },
     "metadata": {
      "needs_background": "light"
     },
     "output_type": "display_data"
    }
   ],
   "source": [
    "PlotMap(inputs[0].numpy().reshape(N,N),outputs[0].reshape(N,N))"
   ]
  }
 ],
 "metadata": {
  "kernelspec": {
   "display_name": "Python 3",
   "language": "python",
   "name": "python3"
  },
  "language_info": {
   "codemirror_mode": {
    "name": "ipython",
    "version": 3
   },
   "file_extension": ".py",
   "mimetype": "text/x-python",
   "name": "python",
   "nbconvert_exporter": "python",
   "pygments_lexer": "ipython3",
   "version": "3.6.9"
  }
 },
 "nbformat": 4,
 "nbformat_minor": 5
}
